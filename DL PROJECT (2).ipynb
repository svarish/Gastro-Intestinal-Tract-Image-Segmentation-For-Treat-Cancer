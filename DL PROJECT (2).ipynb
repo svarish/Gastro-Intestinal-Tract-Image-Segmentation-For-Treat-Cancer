{
 "cells": [
  {
   "cell_type": "code",
   "execution_count": null,
   "metadata": {
    "execution": {
     "iopub.execute_input": "2023-04-07T09:21:29.218060Z",
     "iopub.status.busy": "2023-04-07T09:21:29.217155Z",
     "iopub.status.idle": "2023-04-07T09:21:29.402192Z",
     "shell.execute_reply": "2023-04-07T09:21:29.400871Z",
     "shell.execute_reply.started": "2023-04-07T09:21:29.218006Z"
    }
   },
   "outputs": [],
   "source": [
    "%load_ext autoreload\n",
    "%autoreload 2\n",
    "import numpy as np\n",
    "import pandas as pd\n",
    "pd.options.plotting.backend = \"plotly\"\n",
    "import random\n",
    "from glob import glob\n",
    "import os, shutil\n",
    "from tqdm import tqdm\n",
    "tqdm.pandas()\n",
    "import time\n",
    "import copy\n",
    "import joblib\n",
    "from collections import defaultdict\n",
    "import gc\n",
    "from IPython import display as ipd\n",
    "\n",
    "\n",
    "import matplotlib.pyplot as plt\n",
    "from matplotlib.patches import Rectangle\n",
    " \n",
    "from sklearn.model_selection import StratifiedKFold, KFold, StratifiedGroupKFold\n",
    "\n",
    "import tensorflow as tf\n",
    "from tensorflow import keras\n",
    "%env SM_FRAMEWORK=tf.keras\n",
    "\n",
    "import PIL\n",
    "from PIL import Image\n",
    "import cv2\n",
    "import warnings\n",
    "warnings.filterwarnings(\"ignore\")\n",
    "\n",
    "import matplotlib.pyplot as plt\n",
    "\n",
    "os.environ['CUDA_LAUNCH_BLOCKING'] = \"1\""
   ]
  },
  {
   "cell_type": "code",
   "execution_count": null,
   "metadata": {
    "execution": {
     "iopub.execute_input": "2023-04-07T07:28:59.275634Z",
     "iopub.status.busy": "2023-04-07T07:28:59.275126Z",
     "iopub.status.idle": "2023-04-07T07:28:59.453723Z",
     "shell.execute_reply": "2023-04-07T07:28:59.452033Z",
     "shell.execute_reply.started": "2023-04-07T07:28:59.275598Z"
    }
   },
   "outputs": [],
   "source": [
    "import fnmatch\n",
    "def wordMap(x, s, e ):\n",
    "    start = x.index(s)+len(s)\n",
    "    end = x.index(e, start)\n",
    "    subw = x[start:end]\n",
    "    return subw \n",
    "\n",
    "def pathMatch(dir, path):\n",
    "    files = os.scandir(dir)\n",
    "    for file in files:\n",
    "        if fnmatch.fnmatch(file.name, path):\n",
    "            return dir+\"/\"+file.name\n",
    "\n",
    "images_path =\"/kaggle/input/uw-madison-gi-tract-image-segmentation/train/\"\n",
    "train_csv_path =\"/kaggle/input/uw-madison-gi-tract-image-segmentation/train.csv\"\n",
    "\n",
    "def getProcessedDF(path, mode=\"train\"):\n",
    "    if mode == \"train\":\n",
    "        data = pd.read_csv(path)\n",
    "\n",
    "        df  = data.pivot_table(values='segmentation',index='id',columns='class',aggfunc='max').reset_index()\n",
    "        \n",
    "        df2 = data.drop_duplicates(subset=['id'])\n",
    "\n",
    "        df3 = pd.DataFrame(columns=['id','large_bowel','small_bowel','stomach'])\n",
    "        df3['id'] = df2[~df2['id'].isin(df['id'])].id.values\n",
    "        df = pd.concat([df,df3])\n",
    "        df.reset_index(inplace=True,drop=True)\n",
    "\n",
    "        df[\"id\"] = df.id.map(lambda x : x)\n",
    "        df[\"case\"] = df.id.map(lambda x : int(x.split(\"_\")[0].replace(\"case\", \"\")))\n",
    "        df[\"day\"] =  df.id.map(lambda x : wordMap(x,\"_day\",\"_\"))\n",
    "        df['slice'] = df.id.map(lambda x :  x.split(\"_\")[-1])\n",
    "        df[\"image_path\"] = df.id.map(lambda x : images_path+wordMap(x,\"\",\"_\")+\"/\"+wordMap(x,\"\",\"_\")+\"_day\"+wordMap(x,\"_day\",\"_\")+\"/scans/slice_\"+x.split(\"_\")[-1]+\"|\")\n",
    "        df[\"image_path\"] = df.image_path.map(lambda x : pathMatch(wordMap(x,\"\",\"/slice_\"),wordMap(x,\"scans/\",\"|\")+\"*.png\"))\n",
    "        df[\"width\"] = df[\"image_path\"].apply(lambda x: int(x[:-4].rsplit(\"_\",4)[1]))\n",
    "        df[\"height\"] = df[\"image_path\"].apply(lambda x: int(x[:-4].rsplit(\"_\",4)[2]))\n",
    "    \n",
    "        \n",
    "        df[\"empty\"] = df.id\n",
    "        for i in range (len(df.id)):\n",
    "            if str(df[\"large_bowel\"].iloc[i]) == \"nan\":\n",
    "                df[\"large_bowel\"].iloc[i] = \"\"\n",
    "            if str(df[\"small_bowel\"].iloc[i]) == \"nan\":\n",
    "                df[\"small_bowel\"].iloc[i] = \"\"\n",
    "            if str(df[\"stomach\"].iloc[i]) == \"nan\":\n",
    "                df[\"stomach\"].iloc[i]= \"\"\n",
    "            df[\"empty\"].iloc[i] = df[\"large_bowel\"].iloc[i]==\"\" and df[\"small_bowel\"].iloc[i]==\"\" and df[\"stomach\"].iloc[i]==\"\"\n",
    "        df['count'] = np.sum(df.iloc[:,1:4]!='',axis=1).values\n",
    "    \n",
    "    else :\n",
    "        \n",
    "        df = pd.read_csv(path)\n",
    "                \n",
    "        df[\"id\"] = df.id.map(lambda x : x)\n",
    "        df[\"case\"] = df.id.map(lambda x : int(x.split(\"_\")[0].replace(\"case\", \"\")))\n",
    "        df[\"day\"] =  df.id.map(lambda x : wordMap(x,\"_day\",\"_\"))\n",
    "        df['slice'] = df.id.map(lambda x :  x.split(\"_\")[-1])\n",
    "        df[\"image_path\"] = df.id.map(lambda x : images_path+wordMap(x,\"\",\"_\")+\"/\"+wordMap(x,\"\",\"_\")+\"_day\"+wordMap(x,\"_day\",\"_\")+\"/scans/slice_\"+x.split(\"_\")[-1]+\"|\")\n",
    "        df[\"image_path\"] = df.image_path.map(lambda x : pathMatch(wordMap(x,\"\",\"/slice_\"),wordMap(x,\"scans/\",\"|\")+\"*.png\"))\n",
    "        df[\"width\"] = df[\"image_path\"].apply(lambda x: int(x[:-4].rsplit(\"_\",4)[1]))\n",
    "        df[\"height\"] = df[\"image_path\"].apply(lambda x: int(x[:-4].rsplit(\"_\",4)[2]))\n",
    "        \n",
    "    df.sort_values(by=['case','day','slice'],ignore_index=True, inplace=True)\n",
    "    return df"
   ]
  },
  {
   "cell_type": "code",
   "execution_count": null,
   "metadata": {
    "execution": {
     "iopub.execute_input": "2023-04-07T06:53:52.350636Z",
     "iopub.status.busy": "2023-04-07T06:53:52.349682Z",
     "iopub.status.idle": "2023-04-07T06:55:29.906238Z",
     "shell.execute_reply": "2023-04-07T06:55:29.905208Z",
     "shell.execute_reply.started": "2023-04-07T06:53:52.350580Z"
    }
   },
   "outputs": [],
   "source": [
    "df = getProcessedDF(path=train_csv_path, mode=\"train\")\n",
    "df"
   ]
  },
  {
   "cell_type": "code",
   "execution_count": null,
   "metadata": {
    "execution": {
     "iopub.execute_input": "2023-04-07T06:55:35.695828Z",
     "iopub.status.busy": "2023-04-07T06:55:35.695224Z",
     "iopub.status.idle": "2023-04-07T06:55:36.623475Z",
     "shell.execute_reply": "2023-04-07T06:55:36.622497Z",
     "shell.execute_reply.started": "2023-04-07T06:55:35.695769Z"
    }
   },
   "outputs": [],
   "source": [
    "fault1 = 'case7_day0'\n",
    "fault2 = 'case81_day30'\n",
    "df = df[~df['id'].str.contains(fault1) & ~df['id'].str.contains(fault2)].reset_index(drop=True)\n",
    "df.to_csv(\"prova.csv\")\n",
    "gc.collect()"
   ]
  },
  {
   "cell_type": "code",
   "execution_count": null,
   "metadata": {
    "execution": {
     "iopub.execute_input": "2023-04-07T06:55:46.901155Z",
     "iopub.status.busy": "2023-04-07T06:55:46.900466Z",
     "iopub.status.idle": "2023-04-07T06:55:48.752335Z",
     "shell.execute_reply": "2023-04-07T06:55:48.751377Z",
     "shell.execute_reply.started": "2023-04-07T06:55:46.901116Z"
    }
   },
   "outputs": [],
   "source": [
    "df[\"empty\"].value_counts().plot.bar(color = [\"blue\",\"red\"])"
   ]
  },
  {
   "cell_type": "code",
   "execution_count": null,
   "metadata": {
    "execution": {
     "iopub.execute_input": "2023-04-06T09:28:05.755349Z",
     "iopub.status.busy": "2023-04-06T09:28:05.754444Z",
     "iopub.status.idle": "2023-04-06T09:28:05.866165Z",
     "shell.execute_reply": "2023-04-06T09:28:05.865197Z",
     "shell.execute_reply.started": "2023-04-06T09:28:05.755309Z"
    }
   },
   "outputs": [],
   "source": [
    "df.info()"
   ]
  },
  {
   "cell_type": "markdown",
   "metadata": {},
   "source": [
    "<h4>RLE Function</h4>"
   ]
  },
  {
   "cell_type": "code",
   "execution_count": null,
   "metadata": {
    "execution": {
     "iopub.execute_input": "2023-04-07T09:33:04.536437Z",
     "iopub.status.busy": "2023-04-07T09:33:04.535474Z",
     "iopub.status.idle": "2023-04-07T09:33:04.630811Z",
     "shell.execute_reply": "2023-04-07T09:33:04.629565Z",
     "shell.execute_reply.started": "2023-04-07T09:33:04.536398Z"
    }
   },
   "outputs": [],
   "source": [
    "def rle_decode(mask_rle,height, width ):\n",
    "    mask_rle = [int(k) for k in mask_rle.split()]\n",
    "    start_index = mask_rle[::2]\n",
    "    length = mask_rle[1::2]\n",
    "    start_index = [x-1 for x in start_index]\n",
    "    end_index = [x + y for x,y in zip(start_index, length)]\n",
    "    img = np.zeros(height * width)\n",
    "    for i in range(len(start_index)):\n",
    "        img[start_index[i]:end_index[i]] = 255\n",
    "    return img.reshape((height, width)).astype(np.uint8)\n",
    "\n",
    "# Run-length encoding\n",
    "def rle_encode(img):\n",
    "    '''\n",
    "    img: numpy array, 1 - mask, 0 - background\n",
    "    Returns run length as string formated\n",
    "    '''\n",
    "    pixels = img.flatten()\n",
    "    pixels = np.concatenate([[0], pixels, [0]])\n",
    "    runs = np.where(pixels[1:] != pixels[:-1])[0] + 1\n",
    "    runs[1::2] -= runs[::2]\n",
    "    \n",
    "    return ' '.join(str(x) for x in runs)"
   ]
  },
  {
   "cell_type": "code",
   "execution_count": null,
   "metadata": {
    "execution": {
     "iopub.execute_input": "2023-04-07T09:22:17.692976Z",
     "iopub.status.busy": "2023-04-07T09:22:17.692024Z",
     "iopub.status.idle": "2023-04-07T09:22:18.671921Z",
     "shell.execute_reply": "2023-04-07T09:22:18.670935Z",
     "shell.execute_reply.started": "2023-04-07T09:22:17.692924Z"
    }
   },
   "outputs": [],
   "source": [
    "example_row = df[df[\"empty\"]==False]\n",
    "example_row = example_row[example_row[\"height\"]>300].iloc[0,:]\n",
    "print(example_row)\n",
    "gc.collect()"
   ]
  },
  {
   "cell_type": "code",
   "execution_count": null,
   "metadata": {
    "execution": {
     "iopub.execute_input": "2023-04-07T09:22:24.650561Z",
     "iopub.status.busy": "2023-04-07T09:22:24.650183Z",
     "iopub.status.idle": "2023-04-07T09:22:24.739000Z",
     "shell.execute_reply": "2023-04-07T09:22:24.737860Z",
     "shell.execute_reply.started": "2023-04-07T09:22:24.650527Z"
    }
   },
   "outputs": [],
   "source": [
    "path_img = example_row.image_path\n",
    "path_img"
   ]
  },
  {
   "cell_type": "code",
   "execution_count": null,
   "metadata": {
    "execution": {
     "iopub.execute_input": "2023-04-07T10:58:56.197742Z",
     "iopub.status.busy": "2023-04-07T10:58:56.196745Z",
     "iopub.status.idle": "2023-04-07T10:58:56.283922Z",
     "shell.execute_reply": "2023-04-07T10:58:56.282711Z",
     "shell.execute_reply.started": "2023-04-07T10:58:56.197703Z"
    }
   },
   "outputs": [],
   "source": [
    "import matplotlib.pyplot as plt\n",
    "\n",
    "def print_img_info(img):\n",
    "    img_arr = np.asarray(img)\n",
    "    print(img_arr.shape)\n",
    "    print(img_arr[100])\n",
    "    plt.imshow(img, cmap=\"bone\")"
   ]
  },
  {
   "cell_type": "code",
   "execution_count": null,
   "metadata": {
    "execution": {
     "iopub.execute_input": "2023-04-07T10:59:01.376549Z",
     "iopub.status.busy": "2023-04-07T10:59:01.375961Z",
     "iopub.status.idle": "2023-04-07T10:59:01.779928Z",
     "shell.execute_reply": "2023-04-07T10:59:01.778997Z",
     "shell.execute_reply.started": "2023-04-07T10:59:01.376512Z"
    }
   },
   "outputs": [],
   "source": [
    "img = Image.open(example_row.image_path)\n",
    "\n",
    "print_img_info(img)\n"
   ]
  },
  {
   "cell_type": "code",
   "execution_count": null,
   "metadata": {
    "execution": {
     "iopub.execute_input": "2023-04-07T09:24:36.895929Z",
     "iopub.status.busy": "2023-04-07T09:24:36.894975Z",
     "iopub.status.idle": "2023-04-07T09:24:36.980407Z",
     "shell.execute_reply": "2023-04-07T09:24:36.979073Z",
     "shell.execute_reply.started": "2023-04-07T09:24:36.895888Z"
    }
   },
   "outputs": [],
   "source": [
    "mask_large_bowel = example_row.large_bowel\n",
    "mask_small_bowel = example_row.small_bowel\n",
    "mask_stomach = example_row.stomach\n",
    "    "
   ]
  },
  {
   "cell_type": "code",
   "execution_count": null,
   "metadata": {
    "execution": {
     "iopub.execute_input": "2023-04-07T10:59:10.309644Z",
     "iopub.status.busy": "2023-04-07T10:59:10.309286Z",
     "iopub.status.idle": "2023-04-07T10:59:10.651754Z",
     "shell.execute_reply": "2023-04-07T10:59:10.650620Z",
     "shell.execute_reply.started": "2023-04-07T10:59:10.309612Z"
    }
   },
   "outputs": [],
   "source": [
    "mask = rle_decode(mask_stomach,width=example_row.width,height=example_row.height)\n",
    "print(mask.shape)\n",
    "print(mask)\n",
    "plt.imshow(mask)"
   ]
  },
  {
   "cell_type": "code",
   "execution_count": null,
   "metadata": {
    "execution": {
     "iopub.execute_input": "2023-04-07T10:59:15.169747Z",
     "iopub.status.busy": "2023-04-07T10:59:15.169022Z",
     "iopub.status.idle": "2023-04-07T10:59:15.542208Z",
     "shell.execute_reply": "2023-04-07T10:59:15.541076Z",
     "shell.execute_reply.started": "2023-04-07T10:59:15.169706Z"
    }
   },
   "outputs": [],
   "source": [
    "mask = rle_decode(mask_small_bowel,width=example_row.width,height=example_row.height)\n",
    "print(mask.shape)\n",
    "print(mask)\n",
    "plt.imshow(mask)"
   ]
  },
  {
   "cell_type": "code",
   "execution_count": null,
   "metadata": {
    "execution": {
     "iopub.execute_input": "2023-04-07T09:34:53.800895Z",
     "iopub.status.busy": "2023-04-07T09:34:53.799855Z",
     "iopub.status.idle": "2023-04-07T09:34:54.929832Z",
     "shell.execute_reply": "2023-04-07T09:34:54.928703Z",
     "shell.execute_reply.started": "2023-04-07T09:34:53.800851Z"
    }
   },
   "outputs": [],
   "source": [
    "mask = rle_decode(mask_large_bowel,width=example_row.width,height=example_row.height)\n",
    "print(mask.shape)\n",
    "print(mask)\n",
    "plt.imshow(mask)\n",
    "gc.collect()"
   ]
  },
  {
   "cell_type": "code",
   "execution_count": null,
   "metadata": {
    "execution": {
     "iopub.execute_input": "2023-04-07T10:59:18.789581Z",
     "iopub.status.busy": "2023-04-07T10:59:18.788677Z",
     "iopub.status.idle": "2023-04-07T10:59:18.885074Z",
     "shell.execute_reply": "2023-04-07T10:59:18.883736Z",
     "shell.execute_reply.started": "2023-04-07T10:59:18.789541Z"
    }
   },
   "outputs": [],
   "source": [
    "num = 5\n",
    "segmentation_df_example = df[df[\"empty\"]==False].sample(num)"
   ]
  },
  {
   "cell_type": "code",
   "execution_count": null,
   "metadata": {
    "execution": {
     "iopub.execute_input": "2023-04-07T10:15:44.772894Z",
     "iopub.status.busy": "2023-04-07T10:15:44.772131Z",
     "iopub.status.idle": "2023-04-07T10:15:48.893429Z",
     "shell.execute_reply": "2023-04-07T10:15:48.892311Z",
     "shell.execute_reply.started": "2023-04-07T10:15:44.772848Z"
    }
   },
   "outputs": [],
   "source": [
    "import matplotlib.colors as col\n",
    "\n",
    "fig, ax = plt.subplots(num,5, figsize=(18, 8*num))\n",
    "colors = ['yellow','green','red']\n",
    "\n",
    "\n",
    "cmap1 = col.ListedColormap(colors[0])\n",
    "cmap2 = col.ListedColormap(colors[1])\n",
    "cmap3= col.ListedColormap(colors[2])\n",
    "\n",
    "for i in range(num):\n",
    "    record = segmentation_df_example.iloc[i, :]\n",
    "    \n",
    "    img = tf.keras.preprocessing.image.load_img(record.image_path, color_mode = \"grayscale\")\n",
    "    img = tf.keras.preprocessing.image.img_to_array(img)\n",
    "    ax[i, 0].imshow(img[:,:,0], cmap=\"bone\")\n",
    "    ax[i, 0].set_title(record.id)\n",
    "    \n",
    "    large_bowel = rle_decode(record.large_bowel,width=record.width,height=record.height)\n",
    "    small_bowel = rle_decode(record.small_bowel,width=record.width,height=record.height)\n",
    "    stomach = rle_decode(record.stomach,width=record.width,height=record.height)\n",
    "    \n",
    "    ax[i,1].imshow(large_bowel,cmap=\"bone\") \n",
    "    ax[i,1].set_title(\"Large Bowel Mask\")\n",
    "    \n",
    "    ax[i, 2].imshow(small_bowel, cmap=\"bone\")\n",
    "    ax[i,2].set_title(\"Small Bowel Mask\")\n",
    "    \n",
    "    ax[i,3].imshow(stomach, cmap=\"bone\")\n",
    "    ax[i,3].set_title(\"Stomach Mask\")\n",
    "    \n",
    "    ax[i,4].imshow(img[:,:,0], cmap=\"bone\")\n",
    "    if record.large_bowel !=\"\":\n",
    "        ax[i,4].imshow(np.ma.masked_where(large_bowel==False, large_bowel),cmap=cmap1, alpha=1)\n",
    "    if record.small_bowel !=\"\":    \n",
    "        ax[i,4].imshow(np.ma.masked_where(small_bowel==False, small_bowel),cmap=cmap2, alpha=1)\n",
    "    if record.stomach !=\"\":    \n",
    "        ax[i,4].imshow(np.ma.masked_where(stomach==False, stomach),cmap=cmap3, alpha=1)\n",
    "    ax[i,4].set_title(\"IMG + MASKs\")\n",
    "gc.collect()"
   ]
  },
  {
   "cell_type": "code",
   "execution_count": null,
   "metadata": {
    "execution": {
     "iopub.execute_input": "2023-04-07T10:59:25.369666Z",
     "iopub.status.busy": "2023-04-07T10:59:25.368615Z",
     "iopub.status.idle": "2023-04-07T10:59:25.463964Z",
     "shell.execute_reply": "2023-04-07T10:59:25.462805Z",
     "shell.execute_reply.started": "2023-04-07T10:59:25.369623Z"
    }
   },
   "outputs": [],
   "source": [
    "def histoPlot(img):\n",
    "    hist = plt.hist(img.ravel(), bins=256)\n",
    "\n",
    "    plt.title(\"Istogramma\")\n",
    "    plt.xlabel(\"Intensità dei pixel\")\n",
    "    plt.ylabel(\"Numero di pixel\")\n",
    "    plt.show()\n",
    "\n",
    "def preprocess(img_path,width,height ):\n",
    "    img = Image.open(img_path).resize((width,height))\n",
    "    img = (img - np.min(img)) * (1 / (np.max(img) - np.min(img)))\n",
    "    img = np.expand_dims(img, axis=-1)\n",
    "    return img\n",
    "    \n"
   ]
  },
  {
   "cell_type": "code",
   "execution_count": null,
   "metadata": {
    "execution": {
     "iopub.execute_input": "2023-04-07T10:59:28.445852Z",
     "iopub.status.busy": "2023-04-07T10:59:28.444783Z",
     "iopub.status.idle": "2023-04-07T10:59:29.704718Z",
     "shell.execute_reply": "2023-04-07T10:59:29.703747Z",
     "shell.execute_reply.started": "2023-04-07T10:59:28.445781Z"
    }
   },
   "outputs": [],
   "source": [
    "sample1 = segmentation_df_example.iloc[0, :]\n",
    "img_s = Image.open(sample1.image_path)\n",
    "print_img_info(img_s)\n",
    "gc.collect()"
   ]
  },
  {
   "cell_type": "code",
   "execution_count": null,
   "metadata": {
    "execution": {
     "iopub.execute_input": "2023-04-07T10:58:12.127437Z",
     "iopub.status.busy": "2023-04-07T10:58:12.127033Z",
     "iopub.status.idle": "2023-04-07T10:58:13.439877Z",
     "shell.execute_reply": "2023-04-07T10:58:13.438741Z",
     "shell.execute_reply.started": "2023-04-07T10:58:12.127404Z"
    }
   },
   "outputs": [],
   "source": [
    "img_s =preprocess(sample1.image_path, 128,128)\n",
    "print_img_info(img_s)\n",
    "gc.collect()"
   ]
  },
  {
   "cell_type": "code",
   "execution_count": null,
   "metadata": {
    "execution": {
     "iopub.execute_input": "2023-04-07T11:07:08.338008Z",
     "iopub.status.busy": "2023-04-07T11:07:08.337624Z",
     "iopub.status.idle": "2023-04-07T11:07:12.846350Z",
     "shell.execute_reply": "2023-04-07T11:07:12.844465Z",
     "shell.execute_reply.started": "2023-04-07T11:07:08.337974Z"
    }
   },
   "outputs": [],
   "source": [
    "import matplotlib.colors as col\n",
    "\n",
    "const_resize=(128,128)\n",
    "\n",
    "fig, ax = plt.subplots(num,5, figsize=(18, 8*num))\n",
    "colors = ['yellow','green','red']\n",
    "\n",
    "\n",
    "cmap1 = col.ListedColormap(colors[0])\n",
    "cmap2 = col.ListedColormap(colors[1])\n",
    "cmap3= col.ListedColormap(colors[2])\n",
    "\n",
    "for i in range(num):\n",
    "    record = segmentation_df_example.iloc[i, :]\n",
    "    \n",
    "    img = preprocess(record.image_path,128,128)\n",
    "    \n",
    "    ax[i, 0].imshow(img, cmap=\"bone\")\n",
    "    ax[i, 0].set_title(record.id)\n",
    "    \n",
    "    large_bowel = rle_decode(record.large_bowel,width=record.width,height=record.height)\n",
    "    small_bowel = rle_decode(record.small_bowel,width=record.width,height=record.height)\n",
    "    stomach = rle_decode(record.stomach,width=record.width,height=record.height)\n",
    "    \n",
    "    large_bowel = np.array(Image.fromarray(large_bowel).resize(const_resize))\n",
    "    large_bowel = (mask == 255).astype(np.float32)\n",
    "    \n",
    "    small_bowel = np.array(Image.fromarray(small_bowel).resize(const_resize))\n",
    "    small_bowel = (small_bowel == 255).astype(np.float32)\n",
    "    \n",
    "    stomach = np.array(Image.fromarray(stomach).resize(const_resize))\n",
    "    stomach = (stomach == 255).astype(np.float32)\n",
    "    \n",
    "    \n",
    "    ax[i,1].imshow(large_bowel,cmap=\"bone\") \n",
    "    ax[i,1].set_title(\"Large Bowel Mask\")\n",
    "    \n",
    "    ax[i, 2].imshow(small_bowel, cmap=\"bone\")\n",
    "    ax[i,2].set_title(\"Small Bowel Mask\")\n",
    "    \n",
    "    ax[i,3].imshow(stomach, cmap=\"bone\")\n",
    "    ax[i,3].set_title(\"Stomach Mask\")\n",
    "    \n",
    "    ax[i,4].imshow(img, cmap=\"bone\")\n",
    "    if record.large_bowel !=\"\":\n",
    "        ax[i,4].imshow(np.ma.masked_where(large_bowel==False, large_bowel),cmap=cmap1, alpha=1)\n",
    "    if record.small_bowel !=\"\":    \n",
    "        ax[i,4].imshow(np.ma.masked_where(small_bowel==False, small_bowel),cmap=cmap2, alpha=1)\n",
    "    if record.stomach !=\"\":    \n",
    "        ax[i,4].imshow(np.ma.masked_where(stomach==False, stomach),cmap=cmap3, alpha=1)\n",
    "    ax[i,4].set_title(\"IMG + MASKs\")\n",
    "gc.collect()"
   ]
  },
  {
   "cell_type": "code",
   "execution_count": null,
   "metadata": {
    "execution": {
     "iopub.execute_input": "2023-04-07T07:22:02.659928Z",
     "iopub.status.busy": "2023-04-07T07:22:02.658986Z",
     "iopub.status.idle": "2023-04-07T07:22:02.744319Z",
     "shell.execute_reply": "2023-04-07T07:22:02.743189Z",
     "shell.execute_reply.started": "2023-04-07T07:22:02.659874Z"
    }
   },
   "outputs": [],
   "source": [
    "BATCH_SIZE = 64\n",
    "EPOCHS = 40\n",
    "n_spilts = 5\n",
    "fold_selected = 2\n",
    "IMG_SIZE = 128\n",
    "classes = [\"large_bowel\",\"small_bowel\",\"stomach\"]"
   ]
  },
  {
   "cell_type": "code",
   "execution_count": null,
   "metadata": {
    "execution": {
     "iopub.execute_input": "2023-04-07T08:47:27.449586Z",
     "iopub.status.busy": "2023-04-07T08:47:27.448899Z",
     "iopub.status.idle": "2023-04-07T08:47:27.544110Z",
     "shell.execute_reply": "2023-04-07T08:47:27.542986Z",
     "shell.execute_reply.started": "2023-04-07T08:47:27.449550Z"
    }
   },
   "outputs": [],
   "source": [
    "\n",
    "from tensorflow import keras\n",
    "from keras.utils import Sequence\n",
    "from PIL import Image\n",
    "import numpy as np\n",
    "import tensorflow as tf\n",
    "import cv2\n",
    "\n",
    "\n",
    "\n",
    "class DataGenerator(Sequence):\n",
    "    def __init__(self, df, batch_size=BATCH_SIZE, width=IMG_SIZE, height= IMG_SIZE, mode=\"train\") :\n",
    "        self.df = df\n",
    "        self.batch_size = batch_size\n",
    "        self.width = width\n",
    "        self.height = height\n",
    "        self.indexes = np.arange(len(df))\n",
    "        self.mode = mode\n",
    "        \n",
    "    def __len__(self):\n",
    "        return int(len(self.df) // self.batch_size)\n",
    "    \n",
    "    def __load_image(self, img_path):\n",
    "        img = preprocess(img_path, width=self.width, height=self.height)\n",
    "        return img.astype(np.float32)\n",
    "        \n",
    "    \n",
    "    \n",
    "    def __getitem__(self, index):\n",
    "        \n",
    "        X = np.empty((self.batch_size,self.height,self.width,3))\n",
    "        y = np.empty((self.batch_size,self.height,self.width,3))\n",
    "\n",
    "        indexes = self.indexes[index*self.batch_size:(index+1)*self.batch_size]\n",
    "        \n",
    "        for i, img_path in enumerate(self.df['image_path'].iloc[indexes]):\n",
    "            # Load the image\n",
    "        \n",
    "            image = self.__load_image(img_path)\n",
    "            w=self.df['width'].iloc[indexes[i]]\n",
    "            h=self.df['height'].iloc[indexes[i]]\n",
    "            X[i,] = image\n",
    "            \n",
    "            if self.mode==\"train\":\n",
    "                for k,j in enumerate([\"stomach\", \"large_bowel\",\"small_bowel\"]):\n",
    "                    rle = self.df[j].iloc[indexes[i]]\n",
    "                    mask = rle_decode(rle,height=h,width=w)\n",
    "                    mask = np.array(Image.fromarray(mask).resize((self.height,self.width)))\n",
    "                    mask = (mask == 255).astype(np.float32)\n",
    "\n",
    "                    y[i,:,:,k] = mask\n",
    "        \n",
    "        if self.mode ==\"train\":        \n",
    "            return (X, y)\n",
    "        \n",
    "        return X"
   ]
  },
  {
   "cell_type": "code",
   "execution_count": null,
   "metadata": {
    "execution": {
     "iopub.execute_input": "2023-04-07T07:45:23.517308Z",
     "iopub.status.busy": "2023-04-07T07:45:23.516924Z",
     "iopub.status.idle": "2023-04-07T07:45:23.608199Z",
     "shell.execute_reply": "2023-04-07T07:45:23.607097Z",
     "shell.execute_reply.started": "2023-04-07T07:45:23.517275Z"
    }
   },
   "outputs": [],
   "source": [
    "import keras.backend as K\n",
    "from keras.losses import binary_crossentropy\n",
    "import tensorflow as tf\n",
    "\n",
    "def iou_coef(y_true, y_pred, smooth=1):\n",
    "    intersection = K.sum(K.abs(y_true * y_pred), axis=[1,2,3])\n",
    "    union = K.sum(y_true,[1,2,3])+K.sum(y_pred,[1,2,3])-intersection\n",
    "    iou = K.mean((intersection + smooth) / (union + smooth), axis=0)\n",
    "    return iou\n",
    "\n",
    "def dice_coef(y_true, y_pred, threshold=0.5):\n",
    "    y_true_f = K.flatten(y_true)\n",
    "    y_pred_f = K.flatten(y_pred)\n",
    "    y_pred_f = K.cast(K.greater_equal(y_pred_f, threshold), 'float32')\n",
    "    intersection = K.sum(y_true_f * y_pred_f)\n",
    "    dice_coef = (2 * intersection + 1) / (K.sum(y_true_f) + K.sum(y_pred_f) + 1)\n",
    "    return dice_coef\n",
    "\n",
    "def dice_coef_loss(y_true, y_pred, epsilon=1e-5):\n",
    "    return 1 - (2.0 * K.sum(y_true * y_pred) + epsilon) / (K.sum(y_true) + K.sum(y_pred) + epsilon)\n",
    "\n",
    "def bce_dice_loss(y_true, y_pred):\n",
    "    return binary_crossentropy(tf.cast(y_true, tf.float32), y_pred) + dice_coef_loss(tf.cast(y_true, tf.float32), y_pred)\n"
   ]
  },
  {
   "cell_type": "code",
   "execution_count": null,
   "metadata": {
    "execution": {
     "iopub.execute_input": "2023-04-06T12:19:40.327655Z",
     "iopub.status.busy": "2023-04-06T12:19:40.326459Z",
     "iopub.status.idle": "2023-04-06T12:19:40.431094Z",
     "shell.execute_reply": "2023-04-06T12:19:40.430117Z",
     "shell.execute_reply.started": "2023-04-06T12:19:40.327608Z"
    }
   },
   "outputs": [],
   "source": [
    "from sklearn.model_selection import train_test_split\n",
    "train_set, val_set = train_test_split(df, test_size = 0.25, shuffle = True, random_state = 42)"
   ]
  },
  {
   "cell_type": "code",
   "execution_count": null,
   "metadata": {
    "execution": {
     "iopub.execute_input": "2023-04-06T12:19:42.497589Z",
     "iopub.status.busy": "2023-04-06T12:19:42.496963Z",
     "iopub.status.idle": "2023-04-06T12:19:42.615786Z",
     "shell.execute_reply": "2023-04-06T12:19:42.613841Z",
     "shell.execute_reply.started": "2023-04-06T12:19:42.497547Z"
    }
   },
   "outputs": [],
   "source": [
    "train_set.info()"
   ]
  },
  {
   "cell_type": "code",
   "execution_count": null,
   "metadata": {
    "execution": {
     "iopub.execute_input": "2023-04-06T12:19:45.219088Z",
     "iopub.status.busy": "2023-04-06T12:19:45.218681Z",
     "iopub.status.idle": "2023-04-06T12:19:45.334323Z",
     "shell.execute_reply": "2023-04-06T12:19:45.332913Z",
     "shell.execute_reply.started": "2023-04-06T12:19:45.219052Z"
    }
   },
   "outputs": [],
   "source": [
    "val_set.info()"
   ]
  },
  {
   "cell_type": "code",
   "execution_count": null,
   "metadata": {
    "execution": {
     "iopub.execute_input": "2023-04-06T12:19:48.687595Z",
     "iopub.status.busy": "2023-04-06T12:19:48.687077Z",
     "iopub.status.idle": "2023-04-06T12:19:48.774107Z",
     "shell.execute_reply": "2023-04-06T12:19:48.772644Z",
     "shell.execute_reply.started": "2023-04-06T12:19:48.687552Z"
    }
   },
   "outputs": [],
   "source": [
    "train_generator = DataGenerator(train_set)\n",
    "val_generator = DataGenerator(val_set)"
   ]
  },
  {
   "cell_type": "code",
   "execution_count": null,
   "metadata": {
    "execution": {
     "iopub.execute_input": "2023-04-06T09:30:38.851389Z",
     "iopub.status.busy": "2023-04-06T09:30:38.850428Z",
     "iopub.status.idle": "2023-04-06T09:30:49.844939Z",
     "shell.execute_reply": "2023-04-06T09:30:49.843551Z",
     "shell.execute_reply.started": "2023-04-06T09:30:38.851352Z"
    }
   },
   "outputs": [],
   "source": [
    "! pip install segmentation-models "
   ]
  },
  {
   "cell_type": "code",
   "execution_count": null,
   "metadata": {
    "execution": {
     "iopub.execute_input": "2023-04-06T09:30:52.865520Z",
     "iopub.status.busy": "2023-04-06T09:30:52.864292Z",
     "iopub.status.idle": "2023-04-06T09:30:52.987466Z",
     "shell.execute_reply": "2023-04-06T09:30:52.986424Z",
     "shell.execute_reply.started": "2023-04-06T09:30:52.865457Z"
    }
   },
   "outputs": [],
   "source": [
    "import segmentation_models as sm\n",
    "sm.set_framework('tf.keras')\n",
    "sm.framework()\n"
   ]
  },
  {
   "cell_type": "code",
   "execution_count": null,
   "metadata": {
    "execution": {
     "iopub.execute_input": "2023-04-06T12:22:03.113747Z",
     "iopub.status.busy": "2023-04-06T12:22:03.112663Z",
     "iopub.status.idle": "2023-04-06T12:22:04.622103Z",
     "shell.execute_reply": "2023-04-06T12:22:04.621052Z",
     "shell.execute_reply.started": "2023-04-06T12:22:03.113688Z"
    }
   },
   "outputs": [],
   "source": [
    "from segmentation_models import Unet\n",
    "from segmentation_models.utils import set_trainable\n",
    "\n",
    "model = Unet('resnet34',input_shape=(IMG_SIZE, IMG_SIZE, 3), classes=3, activation='sigmoid', encoder_weights='imagenet')\n",
    "model.compile(optimizer='adam', loss=dice_coef_loss, metrics=[dice_coef])"
   ]
  },
  {
   "cell_type": "code",
   "execution_count": null,
   "metadata": {
    "execution": {
     "iopub.execute_input": "2023-04-06T12:22:10.073335Z",
     "iopub.status.busy": "2023-04-06T12:22:10.072361Z",
     "iopub.status.idle": "2023-04-06T12:22:10.703799Z",
     "shell.execute_reply": "2023-04-06T12:22:10.702909Z",
     "shell.execute_reply.started": "2023-04-06T12:22:10.073277Z"
    }
   },
   "outputs": [],
   "source": [
    "model.summary()"
   ]
  },
  {
   "cell_type": "code",
   "execution_count": null,
   "metadata": {
    "execution": {
     "iopub.execute_input": "2023-04-06T09:31:14.750158Z",
     "iopub.status.busy": "2023-04-06T09:31:14.749568Z",
     "iopub.status.idle": "2023-04-06T09:31:15.164725Z",
     "shell.execute_reply": "2023-04-06T09:31:15.163554Z",
     "shell.execute_reply.started": "2023-04-06T09:31:14.750119Z"
    }
   },
   "outputs": [],
   "source": [
    "gc.collect()"
   ]
  },
  {
   "cell_type": "code",
   "execution_count": null,
   "metadata": {
    "execution": {
     "iopub.execute_input": "2023-04-06T12:20:10.654065Z",
     "iopub.status.busy": "2023-04-06T12:20:10.653375Z",
     "iopub.status.idle": "2023-04-06T12:21:27.597022Z",
     "shell.execute_reply": "2023-04-06T12:21:27.595892Z",
     "shell.execute_reply.started": "2023-04-06T12:20:10.654026Z"
    }
   },
   "outputs": [],
   "source": [
    "from tensorflow.keras.callbacks import EarlyStopping, LearningRateScheduler, ReduceLROnPlateau,ModelCheckpoint\n",
    "\n",
    "checkpoint = ModelCheckpoint(\n",
    "    'UNET_model',\n",
    "    monitor='val_loss',\n",
    "    verbose=1,\n",
    "    save_best_only=True,\n",
    "    save_weights_only=False,\n",
    "    mode='auto',\n",
    ")\n",
    "\n",
    "early_stopping = EarlyStopping(\n",
    "    patience=5,\n",
    "    min_delta=0.0001,\n",
    "    restore_best_weights=True,\n",
    ")\n",
    "\n",
    "lr_plateau = keras.callbacks.ReduceLROnPlateau(\n",
    "    monitor=\"val_loss\",\n",
    "    factor=0.1,\n",
    "    patience=5,\n",
    "    verbose=0,\n",
    "    min_delta=0.0001,\n",
    ")\n",
    "model.save('final_model')"
   ]
  },
  {
   "cell_type": "code",
   "execution_count": null,
   "metadata": {
    "execution": {
     "iopub.execute_input": "2023-04-06T12:22:17.118551Z",
     "iopub.status.busy": "2023-04-06T12:22:17.117671Z",
     "iopub.status.idle": "2023-04-06T13:48:26.786471Z",
     "shell.execute_reply": "2023-04-06T13:48:26.784554Z",
     "shell.execute_reply.started": "2023-04-06T12:22:17.118488Z"
    }
   },
   "outputs": [],
   "source": [
    "history = model.fit(\n",
    "    train_generator,\n",
    "    validation_data=val_generator,\n",
    "    callbacks=[checkpoint, \n",
    "               early_stopping],\n",
    "    use_multiprocessing=False,\n",
    "    workers=4,\n",
    "    epochs=EPOCHS\n",
    ")"
   ]
  },
  {
   "cell_type": "code",
   "execution_count": null,
   "metadata": {
    "execution": {
     "iopub.execute_input": "2023-04-06T13:56:01.952204Z",
     "iopub.status.busy": "2023-04-06T13:56:01.951386Z",
     "iopub.status.idle": "2023-04-06T13:56:02.475614Z",
     "shell.execute_reply": "2023-04-06T13:56:02.474469Z",
     "shell.execute_reply.started": "2023-04-06T13:56:01.952151Z"
    }
   },
   "outputs": [],
   "source": [
    "hist_df = pd.DataFrame(history.history)\n",
    "hist_df.to_csv('history.csv')\n",
    "\n",
    "plt.figure(figsize=(15,5))\n",
    "plt.subplot(1,3,1)\n",
    "plt.plot(range(history.epoch[-1]+1),history.history['loss'],label='Train_Loss')\n",
    "plt.plot(range(history.epoch[-1]+1),history.history['val_loss'],label='Val_loss')\n",
    "plt.title('LOSS'); plt.xlabel('Epoch'); plt.ylabel('loss');plt.legend();\n",
    "\n",
    "plt.subplot(1,3,2)\n",
    "plt.plot(range(history.epoch[-1]+1),history.history['dice_coef'],label='Train_dice_coef')\n",
    "plt.plot(range(history.epoch[-1]+1),history.history['val_dice_coef'],label='Val_dice_coef')\n",
    "plt.title('DICE'); plt.xlabel('Epoch'); plt.ylabel('dice_coef');plt.legend(); \n",
    "\n",
    "plt.show()"
   ]
  },
  {
   "cell_type": "markdown",
   "metadata": {},
   "source": [
    "Mostro alcune Predizioni"
   ]
  },
  {
   "cell_type": "code",
   "execution_count": null,
   "metadata": {
    "execution": {
     "iopub.execute_input": "2023-04-06T15:07:17.221090Z",
     "iopub.status.busy": "2023-04-06T15:07:17.220125Z",
     "iopub.status.idle": "2023-04-06T15:07:20.663910Z",
     "shell.execute_reply": "2023-04-06T15:07:20.662932Z",
     "shell.execute_reply.started": "2023-04-06T15:07:17.221052Z"
    }
   },
   "outputs": [],
   "source": [
    "import matplotlib.colors as col\n",
    "\n",
    "pred_batches = DataGenerator(val_set.iloc[203:208,:], batch_size = 1)\n",
    "preds = model.predict_generator(pred_batches,verbose=1)\n",
    "\n",
    "Threshold = 0.5\n",
    "fig, ax = plt.subplots(num,3, figsize=(18, 8*num))\n",
    "colors = ['yellow','green','red']\n",
    "labels = [\"Large Bowel\", \"Small Bowel\", \"Stomach\"]\n",
    "\n",
    "\n",
    "cmap1 = col.ListedColormap(colors[0])\n",
    "cmap2 = col.ListedColormap(colors[1])\n",
    "cmap3= col.ListedColormap(colors[2])\n",
    "\n",
    "for i in range(5):\n",
    "    images, mask = pred_batches[i]\n",
    "    sample_img=images[0,:,:,0]\n",
    "    mask1=mask[0,:,:,0]\n",
    "    mask2=mask[0,:,:,1]\n",
    "    mask3=mask[0,:,:,2]\n",
    "    \n",
    "    pre=preds[i]\n",
    "    predict1=pre[:,:,0]\n",
    "    predict2=pre[:,:,1]\n",
    "    predict3=pre[:,:,2]\n",
    "    \n",
    "    predict1= (predict1 > Threshold).astype(np.float32)\n",
    "    predict2= (predict2 > Threshold).astype(np.float32)\n",
    "    predict3= (predict3 > Threshold).astype(np.float32)\n",
    "    \n",
    "    ax[i,0].imshow(sample_img, cmap=\"bone\")\n",
    "    ax[i,0].set_title(\"Image\", fontsize=12, y=1.01)\n",
    "    #--------------------------\n",
    "    ax[i,1].imshow(sample_img, cmap=\"bone\")\n",
    "    ax[i,1].set_title(\"Mask\", fontsize=12,  y=1.01)\n",
    "    l0 = ax[i,1].imshow(sample_img, cmap=\"bone\")\n",
    "    l1 = ax[i,1].imshow(np.ma.masked_where(mask1== False,  mask1),cmap=cmap1, alpha=1)\n",
    "    l2 = ax[i,1].imshow(np.ma.masked_where(mask2== False,  mask2),cmap=cmap2, alpha=1)\n",
    "    l3 = ax[i,1].imshow(np.ma.masked_where(mask3== False,  mask3),cmap=cmap3, alpha=1)\n",
    "    #--------------------------\n",
    "    \n",
    "    ax[i,2].set_title(\"Predict\", fontsize=12, y=1.01)\n",
    "    l0 =ax[i,2].imshow(sample_img, cmap='bone')\n",
    "    l1 = ax[i,2].imshow(np.ma.masked_where(predict1== False,  predict1),cmap=cmap1, alpha=1)\n",
    "    l2 = ax[i,2].imshow(np.ma.masked_where(predict2== False,  predict2),cmap=cmap2, alpha=1)\n",
    "    l3 = ax[i,2].imshow(np.ma.masked_where(predict3== False,  predict3),cmap=cmap3, alpha=1)\n",
    "   "
   ]
  },
  {
   "cell_type": "code",
   "execution_count": null,
   "metadata": {
    "execution": {
     "iopub.execute_input": "2023-04-07T08:53:50.039289Z",
     "iopub.status.busy": "2023-04-07T08:53:50.038735Z",
     "iopub.status.idle": "2023-04-07T08:53:50.159660Z",
     "shell.execute_reply": "2023-04-07T08:53:50.158247Z",
     "shell.execute_reply.started": "2023-04-07T08:53:50.039239Z"
    }
   },
   "outputs": [],
   "source": [
    "test_dir =\"/kaggle/input/uw-madison-gi-tract-image-segmentation/sample_submission.csv\"\n",
    "train_df =pd.read_csv(\"/kaggle/input/uw-madison-gi-tract-image-segmentation/train.csv\")\n",
    "train_df\n",
    "test_df =  getProcessedDF(path=test_dir, mode=\"test\")\n",
    "\n",
    "\n",
    "if len(test_df) == 0:\n",
    "    test_df = df.iloc[:10*16*3,:]\n",
    "    test_df = test_df.drop(columns=[\"large_bowel\",\"small_bowel\",\"stomach\",\"empty\",\"count\"])\n",
    "test_df[\"class\"] = "
   ]
  },
  {
   "cell_type": "code",
   "execution_count": null,
   "metadata": {
    "execution": {
     "iopub.execute_input": "2023-04-07T08:53:54.351152Z",
     "iopub.status.busy": "2023-04-07T08:53:54.350437Z",
     "iopub.status.idle": "2023-04-07T08:53:54.445256Z",
     "shell.execute_reply": "2023-04-07T08:53:54.444112Z",
     "shell.execute_reply.started": "2023-04-07T08:53:54.351113Z"
    }
   },
   "outputs": [],
   "source": [
    "test_df.head()"
   ]
  },
  {
   "cell_type": "code",
   "execution_count": null,
   "metadata": {
    "execution": {
     "iopub.execute_input": "2023-04-07T07:57:21.308100Z",
     "iopub.status.busy": "2023-04-07T07:57:21.307709Z",
     "iopub.status.idle": "2023-04-07T07:57:28.753877Z",
     "shell.execute_reply": "2023-04-07T07:57:28.752844Z",
     "shell.execute_reply.started": "2023-04-07T07:57:21.308066Z"
    }
   },
   "outputs": [],
   "source": [
    "from keras.models import load_model\n",
    "\n",
    "custom_objects = custom_objects={\n",
    "    'dice_coef': dice_coef,\n",
    "    'dice_coef_loss': dice_coef_loss\n",
    "}\n",
    "\n",
    "model_path = \"/kaggle/working/UNET_model\"\n",
    "model = load_model(model_path,custom_objects=custom_objects)"
   ]
  },
  {
   "cell_type": "code",
   "execution_count": null,
   "metadata": {
    "execution": {
     "iopub.execute_input": "2023-04-07T09:07:42.108974Z",
     "iopub.status.busy": "2023-04-07T09:07:42.108579Z",
     "iopub.status.idle": "2023-04-07T09:07:46.191324Z",
     "shell.execute_reply": "2023-04-07T09:07:46.190264Z",
     "shell.execute_reply.started": "2023-04-07T09:07:42.108937Z"
    }
   },
   "outputs": [],
   "source": [
    "from PIL import Image\n",
    "pred_batches = DataGenerator(test_df, batch_size = BATCH_SIZE, mode=\"test\")\n",
    "num_batches = int(len(test_df)/BATCH_SIZE)\n",
    "submission = pd.read_csv(\"/kaggle/input/uw-madison-gi-tract-image-segmentation/sample_submission.csv\")\n",
    "for i in range(num_batches):\n",
    "    preds = model.predict(pred_batches[i],verbose=0)   \n",
    " \n",
    "    for j in range(BATCH_SIZE):\n",
    "        for k in range(3):\n",
    "            classes = {0:\"large_bowel\",1:\"small_bowel\",2:\"stomach\"}\n",
    "            pred_img = cv2.resize(preds[j,:,:,k], (test_df.loc[i*BATCH_SIZE+j,\"width\"], test_df.loc[i*BATCH_SIZE+j,\"height\"]),interpolation=cv2.INTER_NEAREST) \n",
    "            pred_img = (pred_img>0.5).astype(dtype='uint8')    # classify\n",
    "            submission.loc[3*(i*BATCH_SIZE+j)+k,'predicted'] = rle_encode(pred_img)\n",
    "            submission.loc[3*(i*BATCH_SIZE+j)+k,'id'] = test_df.loc[i*BATCH_SIZE+j,\"id\"]\n",
    "            submission.loc[3*(i*BATCH_SIZE+j)+k,'class'] = classes.get(k)"
   ]
  },
  {
   "cell_type": "code",
   "execution_count": null,
   "metadata": {
    "execution": {
     "iopub.execute_input": "2023-04-07T09:07:49.010664Z",
     "iopub.status.busy": "2023-04-07T09:07:49.010283Z",
     "iopub.status.idle": "2023-04-07T09:07:49.108620Z",
     "shell.execute_reply": "2023-04-07T09:07:49.107494Z",
     "shell.execute_reply.started": "2023-04-07T09:07:49.010623Z"
    }
   },
   "outputs": [],
   "source": [
    "submission.to_csv('submission.csv',index=False)\n",
    "submission.head()"
   ]
  }
 ],
 "metadata": {
  "kernelspec": {
   "display_name": "Python 3 (ipykernel)",
   "language": "python",
   "name": "python3"
  },
  "language_info": {
   "codemirror_mode": {
    "name": "ipython",
    "version": 3
   },
   "file_extension": ".py",
   "mimetype": "text/x-python",
   "name": "python",
   "nbconvert_exporter": "python",
   "pygments_lexer": "ipython3",
   "version": "3.9.7"
  }
 },
 "nbformat": 4,
 "nbformat_minor": 4
}
